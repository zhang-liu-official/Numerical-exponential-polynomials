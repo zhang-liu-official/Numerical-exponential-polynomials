{
 "cells": [
  {
   "cell_type": "code",
   "execution_count": 1,
   "metadata": {},
   "outputs": [],
   "source": [
    "# dependencies\n",
    "using Polynomials"
   ]
  },
  {
   "cell_type": "markdown",
   "metadata": {},
   "source": [
    "# First Implementation \n",
    "Direction: \n",
    "- Evaluate the function at various points around the edges of the rectangle. \n",
    "- Count how many cycles the argument completes while traversing around the rectangle.\n",
    "\n",
    "Spot rectangle, and how many zeros are inside.\n",
    "By tracking the winding number, we can locate the number of zeros in the holomorphic function\n",
    "\n",
    "Wind(arg) = 1/(2*pi*im) * integrate(1/(x+im*y))"
   ]
  },
  {
   "cell_type": "code",
   "execution_count": 2,
   "metadata": {},
   "outputs": [],
   "source": [
    "# define data structure of rectangle\n",
    "struct Rec\n",
    "    btmlft::Any\n",
    "    uplft::Any\n",
    "    uprght::Any\n",
    "    btmrght::Any\n",
    "end\n",
    "\n",
    "\n",
    "struct Step\n",
    "    height::Float32\n",
    "    width::Float32\n",
    "    step::Float32\n",
    "end"
   ]
  },
  {
   "cell_type": "code",
   "execution_count": 25,
   "metadata": {},
   "outputs": [
    {
     "data": {
      "text/plain": [
       "parseInput (generic function with 1 method)"
      ]
     },
     "execution_count": 25,
     "metadata": {},
     "output_type": "execute_result"
    }
   ],
   "source": [
    "# calculate height and width\n",
    "function parseInput(input)\n",
    "    height = input.uplft[2] - input.btmlft[2]\n",
    "    width = input.btmrght[1] - input.btmlft[1]\n",
    "    n = 10000 # change n accordingly so argument analysis is comprehensive\n",
    "    step = height/n\n",
    "    info = Step(height, width, step)\n",
    "end"
   ]
  },
  {
   "cell_type": "code",
   "execution_count": 8,
   "metadata": {},
   "outputs": [
    {
     "data": {
      "text/plain": [
       "argBox (generic function with 1 method)"
      ]
     },
     "execution_count": 8,
     "metadata": {},
     "output_type": "execute_result"
    }
   ],
   "source": [
    "# evaluate the argument at various points starting at bottomleft and traversing one round\n",
    "# store arguments in array\n",
    "\n",
    "function argBox(f, input, info)\n",
    "    # bottom left to top left\n",
    "    i = input.btmlft[2]\n",
    "    argArray = []\n",
    "    while i < input.uplft[2] \n",
    "        arg = angle(f(input.btmlft[1]+im*i))  # this is where the input function comes in for evaluation. Check multipoint.ipynb\n",
    "        push!(argArray,arg)\n",
    "        i += info.step\n",
    "    end\n",
    "    \n",
    "    # top left to top right\n",
    "    j = input.uplft[1]\n",
    "    while j < input.uprght[1]\n",
    "        arg = angle(f(j+im*input.uplft[2]))\n",
    "        push!(argArray,arg)\n",
    "        j += info.step\n",
    "    end\n",
    "    \n",
    "    # top right to bottom right\n",
    "    i = input.uprght[2]\n",
    "    while i > input.btmrght[2]\n",
    "        arg = angle(f(input.uprght[1]+im*i))\n",
    "        push!(argArray,arg)\n",
    "        i -= info.step\n",
    "    end\n",
    "    \n",
    "    # bottom right to bottom left\n",
    "    j = input.btmrght[1]\n",
    "    while j > input.btmlft[1]\n",
    "        arg = angle(f(j+im*input.btmlft[2]))\n",
    "        push!(argArray,arg)\n",
    "        j -= info.step\n",
    "    end\n",
    "    \n",
    "    return argArray\n",
    "end\n"
   ]
  },
  {
   "cell_type": "code",
   "execution_count": 47,
   "metadata": {},
   "outputs": [
    {
     "data": {
      "text/plain": [
       "countJump (generic function with 1 method)"
      ]
     },
     "execution_count": 47,
     "metadata": {},
     "output_type": "execute_result"
    }
   ],
   "source": [
    "# spot jumps (~>= 2pi or 6)\n",
    "# the output of argBox(input) is an array of the arguments\n",
    "# use a for loop to check if any of the pairs match the criteria\n",
    "# increase count and return the final count. This is the number of zeros in the locus\n",
    "\n",
    "\n",
    "function countJump(f, input, info)\n",
    "    arr = argBox(f, input, info)\n",
    "    len = length(arr)\n",
    "    count = 0\n",
    "    add = []\n",
    "    dec = []\n",
    "    \n",
    "    for i in 1:(len - 1)\n",
    "        if arr[i] - arr[i+1] > 6 # slightly less than 2pi\n",
    "            count -= 1\n",
    "            push!(dec, (arr[i],arr[i+1]))\n",
    "        elseif arr[i] - arr[i+1] < -6 # decrement if it goes clockwise (less than -6)\n",
    "            count += 1\n",
    "            push!(add, (arr[i],arr[i+1]))\n",
    "        end\n",
    "    end\n",
    "    return count, add, dec\n",
    "end"
   ]
  },
  {
   "cell_type": "markdown",
   "metadata": {},
   "source": [
    "## Unit Tests\n",
    "Test the algorithm properly. Polynomials are easy to put the zeros exactly where you want them. Try multiplying another function which has no zero in the region to make it more computationally expensive."
   ]
  },
  {
   "cell_type": "code",
   "execution_count": 48,
   "metadata": {},
   "outputs": [
    {
     "data": {
      "text/plain": [
       "(1, Any[(-3.14136, 3.14156)], Any[])"
      ]
     },
     "execution_count": 48,
     "metadata": {},
     "output_type": "execute_result"
    }
   ],
   "source": [
    "# first unit test with 4 zeros\n",
    "t1 = fromroots([-1+2im,1+4im,-3im, 4+6im])\n",
    "input = Rec((1,1), (1,10), (10,10), (10,1))\n",
    "info = parseInput(input) # handles steps\n",
    "countJump(t1, input, info) "
   ]
  },
  {
   "cell_type": "code",
   "execution_count": 49,
   "metadata": {},
   "outputs": [
    {
     "data": {
      "text/plain": [
       "(2, Any[(-3.1414, 3.14139), (-3.14145, 3.14115)], Any[])"
      ]
     },
     "execution_count": 49,
     "metadata": {},
     "output_type": "execute_result"
    }
   ],
   "source": [
    "t2 = fromroots([1+2im,1+4im,3im, 4+6im]) * Polynomial([1, 2, 3], :x)\n",
    "                                                                                                                                   \n",
    "input2 = Rec((-10,0), (-10,10), (0,10), (0,0))\n",
    "info2 = parseInput(input2)\n",
    "countJump(t2, input2, info2) "
   ]
  },
  {
   "cell_type": "code",
   "execution_count": 50,
   "metadata": {},
   "outputs": [
    {
     "data": {
      "text/html": [
       "(54 - 192im) &#43; (190 + 123im)&#8729;x &#45; (71 - 60im)&#8729;x<sup>2</sup> &#45; (6 + 15im)&#8729;x<sup>3</sup> &#43; x<sup>4</sup>"
      ],
      "text/latex": [
       "$(54 - 192im) + (190 + 123im)\\cdot x - (71 - 60im)\\cdot x^{2} - (6 + 15im)\\cdot x^{3} + x^{4}$"
      ],
      "text/plain": [
       "Polynomial((54 - 192im) + (190 + 123im)*x - (71 - 60im)*x^2 - (6 + 15im)*x^3 + x^4)"
      ]
     },
     "execution_count": 50,
     "metadata": {},
     "output_type": "execute_result"
    }
   ],
   "source": [
    "fromroots([1+2im,1+4im,3im, 4+6im])"
   ]
  },
  {
   "cell_type": "code",
   "execution_count": null,
   "metadata": {},
   "outputs": [],
   "source": []
  }
 ],
 "metadata": {
  "kernelspec": {
   "display_name": "Julia 1.0.5",
   "language": "julia",
   "name": "julia-1.0"
  },
  "language_info": {
   "file_extension": ".jl",
   "mimetype": "application/julia",
   "name": "julia",
   "version": "1.0.5"
  }
 },
 "nbformat": 4,
 "nbformat_minor": 4
}
