{
 "cells": [
  {
   "cell_type": "code",
   "execution_count": 108,
   "metadata": {},
   "outputs": [],
   "source": [
    "# dependencies\n",
    "using Polynomials"
   ]
  },
  {
   "cell_type": "markdown",
   "metadata": {},
   "source": [
    "# First Implementation \n",
    "Direction: \n",
    "- Evaluate the function at various points around the edges of the rectangle. \n",
    "- Count how many cycles the argument completes while traversing around the rectangle.\n",
    "\n",
    "Spot rectangle, and how many zeros are inside.\n",
    "By tracking the winding number, we can locate the number of zeros in the holomorphic function\n",
    "\n",
    "Wind(arg) = 1/(2*pi*im) * integrate(1/(x+im*y))"
   ]
  },
  {
   "cell_type": "code",
   "execution_count": 126,
   "metadata": {},
   "outputs": [],
   "source": [
    "# define data structure of rectangle\n",
    "struct Rect \n",
    "    btmlft::Any\n",
    "    uprght::Any\n",
    "end\n",
    "\n",
    "struct Step\n",
    "    height::Float32\n",
    "    width::Float32\n",
    "    step::Float32\n",
    "end"
   ]
  },
  {
   "cell_type": "code",
   "execution_count": 131,
   "metadata": {},
   "outputs": [
    {
     "data": {
      "text/plain": [
       "parseInput (generic function with 1 method)"
      ]
     },
     "execution_count": 131,
     "metadata": {},
     "output_type": "execute_result"
    }
   ],
   "source": [
    "# calculate height and width\n",
    "function parseInput(input) \n",
    "    height = input.uprght[2] - input.btmlft[2]\n",
    "    width = input.uprght[1] - input.btmlft[1]\n",
    "    n = 20 # change n accordingly so argument analysis is comprehensive\n",
    "    step = height/n\n",
    "    info = Step(height, width, step)\n",
    "end"
   ]
  },
  {
   "cell_type": "code",
   "execution_count": 128,
   "metadata": {},
   "outputs": [
    {
     "data": {
      "text/plain": [
       "argBox (generic function with 1 method)"
      ]
     },
     "execution_count": 128,
     "metadata": {},
     "output_type": "execute_result"
    }
   ],
   "source": [
    "# evaluate the argument at various points starting at bottomleft and traversing one round\n",
    "# store arguments in array\n",
    "\n",
    "function argBox(f, input, info)\n",
    "    # bottom left to top left\n",
    "    i = input.btmlft[2]\n",
    "    argArray = []\n",
    "    while i < input.uprght[2] \n",
    "        arg = angle(f(input.btmlft[1]+im*i))  # this is where the input function comes in for evaluation. Check multipoint.ipynb\n",
    "        complexpoint = input.btmlft[1]+im*i\n",
    "        println(\"f($complexpoint) = $arg\")\n",
    "        push!(argArray,arg)\n",
    "        i += info.step\n",
    "    end\n",
    "    \n",
    "    # top left to top right\n",
    "    j = input.btmlft[1]\n",
    "    while j < input.uprght[1]\n",
    "        arg = angle(f(j+im*input.uprght[2]))\n",
    "        complexpoint = j+im*input.uprght[2]\n",
    "        println(\"f($complexpoint) = $arg\")\n",
    "        push!(argArray,arg)\n",
    "        j += info.step\n",
    "    end\n",
    "    \n",
    "    # top right to bottom right\n",
    "    i = input.uprght[2]\n",
    "    while i > input.btmlft[2]\n",
    "        arg = angle(f(input.uprght[1]+im*i))\n",
    "        complexpoint = input.uprght[1]+im*i\n",
    "        println(\"f($complexpoint) = $arg\")\n",
    "        push!(argArray,arg)\n",
    "        i -= info.step\n",
    "    end\n",
    "    \n",
    "    # bottom right to bottom left\n",
    "    j = input.uprght[1]\n",
    "    while j > input.btmlft[1]\n",
    "        arg = angle(f(j+im*input.btmlft[2]))\n",
    "        complexpoint = j+im*input.btmlft[2]\n",
    "        println(\"f($complexpoint) = $arg\")\n",
    "        push!(argArray,arg)\n",
    "        j -= info.step\n",
    "    end\n",
    "    \n",
    "    # add the starting point to make the loop closed\n",
    "    arg = angle(f(input.btmlft[1]+im*input.btmlft[2]))\n",
    "    push!(argArray,arg)\n",
    "    complexpoint = input.btmlft[1]+im*input.btmlft[2]\n",
    "    println(\"f($complexpoint) = $arg\")\n",
    "    return argArray\n",
    "end\n"
   ]
  },
  {
   "cell_type": "code",
   "execution_count": 129,
   "metadata": {},
   "outputs": [
    {
     "data": {
      "text/plain": [
       "countJump (generic function with 1 method)"
      ]
     },
     "execution_count": 129,
     "metadata": {},
     "output_type": "execute_result"
    }
   ],
   "source": [
    "# spot jumps (~>= 2pi or 6)\n",
    "# the output of argBox(input) is an array of the arguments\n",
    "# use a for loop to check if any of the pairs match the criteria\n",
    "# increase count and return the final count. This is the number of zeros in the locus\n",
    "\n",
    "\n",
    "function countJump(f, arr, info)\n",
    "    len = length(arr)\n",
    "    count = 0\n",
    "    add = []\n",
    "    dec = []\n",
    "    \n",
    "    for i in 1:(len - 1)\n",
    "        if arr[i] - arr[i+1] > 4 # slightly less than 2pi\n",
    "            count += 1\n",
    "            push!(add, (arr[i],arr[i+1],i))\n",
    "        elseif arr[i] - arr[i+1] < -4 # decrement if it goes clockwise (less than -6)\n",
    "            count -= 1\n",
    "            push!(dec, (arr[i],arr[i+1],i))\n",
    "        end\n",
    "    end\n",
    "    return count, add, dec\n",
    "end"
   ]
  },
  {
   "cell_type": "code",
   "execution_count": 23,
   "metadata": {},
   "outputs": [
    {
     "data": {
      "text/plain": [
       "divideRec (generic function with 2 methods)"
      ]
     },
     "execution_count": 23,
     "metadata": {},
     "output_type": "execute_result"
    }
   ],
   "source": [
    "# subdivide rectangle into four\n",
    "# run recursion of countJump for sub-rectangles that have zeros\n",
    "# repeat recursion until all of the jumps are found. \n",
    "# return the bottom left coordinates of the squares\n",
    "    \n",
    " \n",
    "function divideRec(f, input, info, res, count)\n",
    "    height = info.height\n",
    "    width = info.width\n",
    "    \n",
    "    # bottom left square\n",
    "    x_bl = input.btmlft[1]\n",
    "    y_bl = input.btmlft[2]\n",
    "    x_tr = width/2 + info.btmlft[1]\n",
    "    y_tr = height/2 + info.btmlft[2]\n",
    "    new_input = ((x_bl,y_bl),(x_tr, y_tr))\n",
    "    new_info = parseInput(new_input)\n",
    "    new_arr = argBox(f, new_input, new_info)\n",
    "\n",
    "    if countJump(f, new_arr, new_info) == 0 && count != 0 # add count to know when to push coordinate to result array\n",
    "        push!(res, (new_info.btmlft[1],new_info.btmlft[2]))\n",
    "        res\n",
    "    elseif countJump(f, new_arr, new_info) > 0 # change to != 0 after debugging\n",
    "        divideRec(f, new_input, new_info, (x_bl, y_bl), count+1) # res: the bottom left coordinate?\n",
    "    end\n",
    "\n",
    "    # top left square\n",
    "    x_bl = input.btmlft[1]\n",
    "    y_bl = input.btmlft[2]+height/2\n",
    "    x_tr = width/2 + info.btmlft[1]\n",
    "    y_tr = info.uprght[2]\n",
    "    new_input = ((x_bl, y_bl),(x_tr, y_tr))\n",
    "    new_info = parseInput(new_input)\n",
    "    new_arr = argBox(f, new_input, new_info)\n",
    "    \n",
    "    if countJump(f, new_arr, new_info) == 0 && count != 0\n",
    "        push!(res, (new_info.btmlft[1],new_info.btmlft[2]))\n",
    "        res\n",
    "    elseif countJump(f, new_arr, new_info) > 0 # change to != 0 after debugging\n",
    "        divideRec(f, new_input, new_info, (x_bl, y_bl), count+1) \n",
    "    end\n",
    "    \n",
    "    # top right square\n",
    "    x_mid = width/2 + info.btmlft[1]\n",
    "    y_mid = height/2 + info.btmlft[2]\n",
    "    new_input = ((x_mid, y_mid),(input.uprght[1], input.uprght[2]))\n",
    "    new_info = parseInput(new_input)\n",
    "    new_arr = argBox(f, new_input, new_info)\n",
    "    \n",
    "    if countJump(f, new_arr, new_info) == 0 && count != 0\n",
    "        push!(res, (new_info.btmlft[1],new_info.btmlft[2]))\n",
    "        res\n",
    "    elseif countJump(f, new_arr, new_info) > 0 # change to != 0 after debugging\n",
    "        divideRec(f, new_input, new_info, (x_bl, y_bl)) \n",
    "    end\n",
    "    \n",
    "    # bottom right square\n",
    "    x_bl = width/2 + info.btmlft[1]\n",
    "    y_bl = info.btmlft[2]\n",
    "    x_tr = info.uprght[1]\n",
    "    y_tr = height/2 + info.btmlft[2]\n",
    "    new_input = ((x_bl, y_bl),(x_tr, y_tr))\n",
    "    new_info = parseInput(new_input)\n",
    "    new_arr = argBox(f, new_input, new_info)\n",
    "    \n",
    "    if countJump(f, new_arr, new_info) == 0 && count != 0\n",
    "        push!(res, (new_info.btmlft[1],new_info.btmlft[2]))\n",
    "        res\n",
    "    elseif countJump(f, new_arr, new_info) > 0 # change to != 0 after debugging\n",
    "        divideRec(f, new_input, new_info, (x_bl, y_bl))\n",
    "    end\n",
    "\n",
    "end\n",
    "\n"
   ]
  },
  {
   "cell_type": "markdown",
   "metadata": {},
   "source": [
    "## Unit Tests\n",
    "Test the algorithm properly. Polynomials are easy to put the zeros exactly where you want them. Try multiplying another function which has no zero in the region to make it more computationally expensive."
   ]
  },
  {
   "cell_type": "code",
   "execution_count": 134,
   "metadata": {},
   "outputs": [
    {
     "name": "stdout",
     "output_type": "stream",
     "text": [
      "f(1 + 1im) = 3.141592653589793\n",
      "f(1.0f0 + 1.45f0im) = -3.01685\n",
      "f(1.0f0 + 1.9000001f0im) = -2.8981817\n",
      "f(1.0f0 + 2.3500001f0im) = -2.8151615\n",
      "f(1.0f0 + 2.8000002f0im) = -2.808915\n",
      "f(1.0f0 + 3.2500002f0im) = -2.9269967\n",
      "f(1.0f0 + 3.7000003f0im) = 3.0726695\n",
      "f(1.0f0 + 4.15f0im) = 2.6570594\n",
      "f(1.0f0 + 4.6f0im) = 2.2512777\n",
      "f(1.0f0 + 5.0499997f0im) = 1.9344976\n",
      "f(1.0f0 + 5.4999995f0im) = 1.6876928\n",
      "f(1.0f0 + 5.9499993f0im) = 1.4813452\n",
      "f(1.0f0 + 6.399999f0im) = 1.3004248\n",
      "f(1.0f0 + 6.849999f0im) = 1.139854\n",
      "f(1.0f0 + 7.2999988f0im) = 0.9985029\n",
      "f(1.0f0 + 7.7499986f0im) = 0.8758315\n",
      "f(1.0f0 + 8.199999f0im) = 0.7706991\n",
      "f(1.0f0 + 8.649999f0im) = 0.68132055\n",
      "f(1.0f0 + 9.099998f0im) = 0.60559595\n",
      "f(1.0f0 + 9.549998f0im) = 0.54142684\n",
      "f(1.0f0 + 9.999998f0im) = 0.4868994\n",
      "f(1 + 10im) = 0.48689923181126904\n",
      "f(1.45f0 + 10.0f0im) = 0.25068864\n",
      "f(1.9000001f0 + 10.0f0im) = 0.0072187055\n",
      "f(2.3500001f0 + 10.0f0im) = -0.24243471\n",
      "f(2.8000002f0 + 10.0f0im) = -0.49668694\n",
      "f(3.2500002f0 + 10.0f0im) = -0.75336015\n",
      "f(3.7000003f0 + 10.0f0im) = -1.0096984\n",
      "f(4.15f0 + 10.0f0im) = -1.2625359\n",
      "f(4.6f0 + 10.0f0im) = -1.508621\n",
      "f(5.0499997f0 + 10.0f0im) = -1.7450092\n",
      "f(5.4999995f0 + 10.0f0im) = -1.9694021\n",
      "f(5.9499993f0 + 10.0f0im) = -2.18032\n",
      "f(6.399999f0 + 10.0f0im) = -2.3770995\n",
      "f(6.849999f0 + 10.0f0im) = -2.5597553\n",
      "f(7.2999988f0 + 10.0f0im) = -2.7287898\n",
      "f(7.7499986f0 + 10.0f0im) = -2.8850067\n",
      "f(8.199999f0 + 10.0f0im) = -3.0293634\n",
      "f(8.649999f0 + 10.0f0im) = 3.1203213\n",
      "f(9.099998f0 + 10.0f0im) = 2.9966912\n",
      "f(9.549998f0 + 10.0f0im) = 2.8820024\n",
      "f(9.999998f0 + 10.0f0im) = 2.775401\n",
      "f(10 + 10im) = 2.775400699309645\n",
      "f(10.0f0 + 9.55f0im) = 2.640306\n",
      "f(10.0f0 + 9.1f0im) = 2.4977388\n",
      "f(10.0f0 + 8.650001f0im) = 2.3476398\n",
      "f(10.0f0 + 8.200001f0im) = 2.1900864\n",
      "f(10.0f0 + 7.750001f0im) = 2.025322\n",
      "f(10.0f0 + 7.300001f0im) = 1.8537762\n",
      "f(10.0f0 + 6.8500013f0im) = 1.6760722\n",
      "f(10.0f0 + 6.4000015f0im) = 1.4930123\n",
      "f(10.0f0 + 5.9500017f0im) = 1.3055518\n",
      "f(10.0f0 + 5.500002f0im) = 1.1147537\n",
      "f(10.0f0 + 5.050002f0im) = 0.9217352\n",
      "f(10.0f0 + 4.6000023f0im) = 0.72760296\n",
      "f(10.0f0 + 4.1500025f0im) = 0.5334077\n",
      "f(10.0f0 + 3.7000024f0im) = 0.34010136\n",
      "f(10.0f0 + 3.2500024f0im) = 0.14851198\n",
      "f(10.0f0 + 2.8000023f0im) = -0.040663194\n",
      "f(10.0f0 + 2.3500023f0im) = -0.22686002\n",
      "f(10.0f0 + 1.9000022f0im) = -0.4096354\n",
      "f(10.0f0 + 1.4500022f0im) = -0.5886512\n",
      "f(10.0f0 + 1.0000021f0im) = -0.7636615\n",
      "f(10 + 1im) = -0.7636624565556557\n",
      "f(9.55f0 + 1.0f0im) = -0.8093895\n",
      "f(9.1f0 + 1.0f0im) = -0.8598281\n",
      "f(8.650001f0 + 1.0f0im) = -0.9155607\n",
      "f(8.200001f0 + 1.0f0im) = -0.9772244\n",
      "f(7.750001f0 + 1.0f0im) = -1.045507\n",
      "f(7.300001f0 + 1.0f0im) = -1.1211356\n",
      "f(6.8500013f0 + 1.0f0im) = -1.2048581\n",
      "f(6.4000015f0 + 1.0f0im) = -1.2974169\n",
      "f(5.9500017f0 + 1.0f0im) = -1.3995221\n",
      "f(5.500002f0 + 1.0f0im) = -1.5118184\n",
      "f(5.050002f0 + 1.0f0im) = -1.634853\n",
      "f(4.6000023f0 + 1.0f0im) = -1.7690376\n",
      "f(4.1500025f0 + 1.0f0im) = -1.9145694\n",
      "f(3.7000024f0 + 1.0f0im) = -2.071271\n",
      "f(3.2500024f0 + 1.0f0im) = -2.2383015\n",
      "f(2.8000023f0 + 1.0f0im) = -2.4137878\n",
      "f(2.3500023f0 + 1.0f0im) = -2.594666\n",
      "f(1.9000022f0 + 1.0f0im) = -2.7772522\n",
      "f(1.4500022f0 + 1.0f0im) = -2.9590216\n",
      "f(1.0000021f0 + 1.0f0im) = -3.1415918\n",
      "f(1 + 1im) = 3.141592653589793\n"
     ]
    },
    {
     "data": {
      "text/plain": [
       "(-2, Any[(3.14159, -3.01685, 1)], Any[(-2.927, 3.07267, 6), (-3.02936, 3.12032, 38), (-3.14159, 3.14159, 84)])"
      ]
     },
     "execution_count": 134,
     "metadata": {},
     "output_type": "execute_result"
    }
   ],
   "source": [
    "# first unit test with 4 zeros\n",
    "t1 = fromroots([-1+2im,2+4im,-3im, 4+6im])\n",
    "input = Rect((1,1), (10,10))\n",
    "info = parseInput(input) # handles steps\n",
    "arr = argBox(t1, input, info)\n",
    "countJump(t1, arr, info) # == 2 #(1,4), (4,6)"
   ]
  },
  {
   "cell_type": "code",
   "execution_count": 135,
   "metadata": {},
   "outputs": [
    {
     "name": "stdout",
     "output_type": "stream",
     "text": [
      "f(-10 + 0im) = 1.2249730841393358\n",
      "f(-10.0f0 + 0.5f0im) = 0.95978075\n",
      "f(-10.0f0 + 1.0f0im) = 0.6916488\n",
      "f(-10.0f0 + 1.5f0im) = 0.42160097\n",
      "f(-10.0f0 + 2.0f0im) = 0.15068889\n",
      "f(-10.0f0 + 2.5f0im) = -0.120031245\n",
      "f(-10.0f0 + 3.0f0im) = -0.3895212\n",
      "f(-10.0f0 + 3.5f0im) = -0.65678203\n",
      "f(-10.0f0 + 4.0f0im) = -0.9208727\n",
      "f(-10.0f0 + 4.5f0im) = -1.1809262\n",
      "f(-10.0f0 + 5.0f0im) = -1.4361613\n",
      "f(-10.0f0 + 5.5f0im) = -1.6858919\n",
      "f(-10.0f0 + 6.0f0im) = -1.9295315\n",
      "f(-10.0f0 + 6.5f0im) = -2.1665952\n",
      "f(-10.0f0 + 7.0f0im) = -2.3966978\n",
      "f(-10.0f0 + 7.5f0im) = -2.6195495\n",
      "f(-10.0f0 + 8.0f0im) = -2.83495\n",
      "f(-10.0f0 + 8.5f0im) = -3.042781\n",
      "f(-10.0f0 + 9.0f0im) = 3.040188\n",
      "f(-10.0f0 + 9.5f0im) = 2.847569\n",
      "f(-10 + 10im) = 2.6624734387219053\n",
      "f(-9.5f0 + 10.0f0im) = 2.5333853\n",
      "f(-9.0f0 + 10.0f0im) = 2.396328\n",
      "f(-8.5f0 + 10.0f0im) = 2.2507055\n",
      "f(-8.0f0 + 10.0f0im) = 2.0958848\n",
      "f(-7.5f0 + 10.0f0im) = 1.9311991\n",
      "f(-7.0f0 + 10.0f0im) = 1.7559503\n",
      "f(-6.5f0 + 10.0f0im) = 1.5694178\n",
      "f(-6.0f0 + 10.0f0im) = 1.370866\n",
      "f(-5.5f0 + 10.0f0im) = 1.1595595\n",
      "f(-5.0f0 + 10.0f0im) = 0.9347826\n",
      "f(-4.5f0 + 10.0f0im) = 0.6958617\n",
      "f(-4.0f0 + 10.0f0im) = 0.4421975\n",
      "f(-3.5f0 + 10.0f0im) = 0.17330168\n",
      "f(-3.0f0 + 10.0f0im) = -0.11116076\n",
      "f(-2.5f0 + 10.0f0im) = -0.41132468\n",
      "f(-2.0f0 + 10.0f0im) = -0.72708094\n",
      "f(-1.5f0 + 10.0f0im) = -1.0580342\n",
      "f(-1.0f0 + 10.0f0im) = -1.4034803\n",
      "f(-0.5f0 + 10.0f0im) = -1.7624\n",
      "f(0 + 10im) = -2.133480957585821\n",
      "f(0.0f0 + 9.5f0im) = -2.0475407\n",
      "f(0.0f0 + 9.0f0im) = -1.9492482\n",
      "f(0.0f0 + 8.5f0im) = -1.8367089\n",
      "f(0.0f0 + 8.0f0im) = -1.7078911\n",
      "f(0.0f0 + 7.5f0im) = -1.5605942\n",
      "f(0.0f0 + 7.0f0im) = -1.3922269\n",
      "f(0.0f0 + 6.5f0im) = -1.1989918\n",
      "f(0.0f0 + 6.0f0im) = -0.9738529\n",
      "f(0.0f0 + 5.5f0im) = -0.7020952\n",
      "f(0.0f0 + 5.0f0im) = -0.3529904\n",
      "f(0.0f0 + 4.5f0im) = 0.12612575\n",
      "f(0.0f0 + 4.0f0im) = 0.7586983\n",
      "f(0.0f0 + 3.5f0im) = 1.4168916\n",
      "f(0.0f0 + 3.0f0im) = 0.0\n",
      "f(0.0f0 + 2.5f0im) = -0.60739547\n",
      "f(0.0f0 + 2.0f0im) = -0.02702045\n",
      "f(0.0f0 + 1.5f0im) = 0.44640794\n",
      "f(0.0f0 + 1.0f0im) = 0.5743048\n",
      "f(0.0f0 + 0.5f0im) = -0.16928087\n",
      "f(0 + 0im) = -1.2966288756752378\n",
      "f(-0.5f0 + 0.0f0im) = -1.8109215\n",
      "f(-1.0f0 + 0.0f0im) = -2.2655346\n",
      "f(-1.5f0 + 0.0f0im) = -2.6602495\n",
      "f(-2.0f0 + 0.0f0im) = -2.9996955\n",
      "f(-2.5f0 + 0.0f0im) = 2.99259\n",
      "f(-3.0f0 + 0.0f0im) = 2.7430701\n",
      "f(-3.5f0 + 0.0f0im) = 2.528234\n",
      "f(-4.0f0 + 0.0f0im) = 2.3422496\n",
      "f(-4.5f0 + 0.0f0im) = 2.180233\n",
      "f(-5.0f0 + 0.0f0im) = 2.038175\n",
      "f(-5.5f0 + 0.0f0im) = 1.9128169\n",
      "f(-6.0f0 + 0.0f0im) = 1.8015128\n",
      "f(-6.5f0 + 0.0f0im) = 1.7021136\n",
      "f(-7.0f0 + 0.0f0im) = 1.6128647\n",
      "f(-7.5f0 + 0.0f0im) = 1.5323269\n",
      "f(-8.0f0 + 0.0f0im) = 1.4593116\n",
      "f(-8.5f0 + 0.0f0im) = 1.3928312\n",
      "f(-9.0f0 + 0.0f0im) = 1.3320602\n",
      "f(-9.5f0 + 0.0f0im) = 1.2763035\n",
      "f(-10 + 0im) = 1.2249730841393358\n"
     ]
    },
    {
     "data": {
      "text/plain": [
       "(-2, Any[], Any[(-3.04278, 3.04019, 18), (-2.9997, 2.99259, 65)])"
      ]
     },
     "execution_count": 135,
     "metadata": {},
     "output_type": "execute_result"
    }
   ],
   "source": [
    "t2 = fromroots([1+2im,1+4im,3im, 4+6im]) * Polynomial([1, 2, 3], :x)\n",
    "input2 = Rect((-10,0), (0,10))\n",
    "info2 = parseInput(input2)\n",
    "countJump(t2, input2, info2) # == 1"
   ]
  }
 ],
 "metadata": {
  "kernelspec": {
   "display_name": "Julia 1.0.5",
   "language": "julia",
   "name": "julia-1.0"
  },
  "language_info": {
   "file_extension": ".jl",
   "mimetype": "application/julia",
   "name": "julia",
   "version": "1.0.5"
  }
 },
 "nbformat": 4,
 "nbformat_minor": 4
}
