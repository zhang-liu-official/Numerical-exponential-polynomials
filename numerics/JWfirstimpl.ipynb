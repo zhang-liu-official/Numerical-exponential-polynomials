{
 "cells": [
  {
   "cell_type": "code",
   "execution_count": 25,
   "metadata": {},
   "outputs": [],
   "source": [
    "# dependencies\n",
    "using Polynomials"
   ]
  },
  {
   "cell_type": "markdown",
   "metadata": {},
   "source": [
    "# First Implementation \n",
    "Direction: \n",
    "- Evaluate the function at various points around the edges of the rectangle. \n",
    "- Count how many cycles the argument completes while traversing around the rectangle.\n",
    "\n",
    "Spot rectangle, and how many zeros are inside.\n",
    "By tracking the winding number, we can locate the number of zeros in the holomorphic function\n",
    "\n",
    "Wind(arg) = 1/(2*pi*im) * integrate(1/(x+im*y))"
   ]
  },
  {
   "cell_type": "code",
   "execution_count": 67,
   "metadata": {},
   "outputs": [],
   "source": [
    "# define data structure of rectangle\n",
    "struct Rect \n",
    "    btmlft::Any\n",
    "    uprght::Any\n",
    "end\n",
    "\n",
    "struct Step\n",
    "    height::Float32\n",
    "    width::Float32\n",
    "    step::Float32\n",
    "end"
   ]
  },
  {
   "cell_type": "code",
   "execution_count": 68,
   "metadata": {},
   "outputs": [
    {
     "data": {
      "text/plain": [
       "parseInput (generic function with 1 method)"
      ]
     },
     "execution_count": 68,
     "metadata": {},
     "output_type": "execute_result"
    }
   ],
   "source": [
    "# calculate height and width\n",
    "function parseInput(input) \n",
    "    height = input.uprght[2] - input.btmlft[2]\n",
    "    width = input.uprght[1] - input.btmlft[1]\n",
    "    n = 2000 # change n accordingly so argument analysis is comprehensive\n",
    "    step = height/n\n",
    "    info = Step(height, width, step)\n",
    "end"
   ]
  },
  {
   "cell_type": "code",
   "execution_count": 69,
   "metadata": {},
   "outputs": [
    {
     "data": {
      "text/plain": [
       "argBox (generic function with 1 method)"
      ]
     },
     "execution_count": 69,
     "metadata": {},
     "output_type": "execute_result"
    }
   ],
   "source": [
    "# evaluate the argument at various points starting at bottomleft and traversing one round\n",
    "# store arguments in array\n",
    "\n",
    "function argBox(f, input, info)\n",
    "    # bottom left to top left\n",
    "    i = input.btmlft[2]\n",
    "    argArray = []\n",
    "    while i < input.uprght[2] \n",
    "        arg = angle(f(input.btmlft[1]+im*i))  # this is where the input function comes in for evaluation. Check multipoint.ipynb\n",
    "        complexpoint = input.btmlft[1]+im*i\n",
    "        push!(argArray,arg)\n",
    "        i += info.step\n",
    "    end\n",
    "    \n",
    "    # top left to top right\n",
    "    j = input.btmlft[1]\n",
    "    while j < input.uprght[1]\n",
    "        arg = angle(f(j+im*input.uprght[2]))\n",
    "        complexpoint = j+im*input.uprght[2]\n",
    "        push!(argArray,arg)\n",
    "        j += info.step\n",
    "    end\n",
    "    \n",
    "    # top right to bottom right\n",
    "    i = input.uprght[2]\n",
    "    while i > input.btmlft[2]\n",
    "        arg = angle(f(input.uprght[1]+im*i))\n",
    "        complexpoint = input.uprght[1]+im*i\n",
    "        push!(argArray,arg)\n",
    "        i -= info.step\n",
    "    end\n",
    "    \n",
    "    # bottom right to bottom left\n",
    "    j = input.uprght[1]\n",
    "    while j > input.btmlft[1]\n",
    "        arg = angle(f(j+im*input.btmlft[2]))\n",
    "        complexpoint = j+im*input.btmlft[2]\n",
    "        push!(argArray,arg)\n",
    "        j -= info.step\n",
    "    end\n",
    "    \n",
    "    # add the starting point to make the loop closed\n",
    "    arg = angle(f(input.btmlft[1]+im*input.btmlft[2]))\n",
    "    push!(argArray,arg)\n",
    "    complexpoint = input.btmlft[1]+im*input.btmlft[2]\n",
    "    return argArray\n",
    "end\n"
   ]
  },
  {
   "cell_type": "code",
   "execution_count": 70,
   "metadata": {},
   "outputs": [
    {
     "data": {
      "text/plain": [
       "countJump (generic function with 1 method)"
      ]
     },
     "execution_count": 70,
     "metadata": {},
     "output_type": "execute_result"
    }
   ],
   "source": [
    "# spot jumps (~>= 2pi or 6)\n",
    "# the output of argBox(input) is an array of the arguments\n",
    "# use a for loop to check if any of the pairs match the criteria\n",
    "# increase count and return the final count. This is the number of zeros in the locus\n",
    "\n",
    "\n",
    "function countJump(f, arr, info)\n",
    "    len = length(arr)\n",
    "    count = 0\n",
    "    add = []\n",
    "    dec = []\n",
    "    \n",
    "    for i in 1:(len - 1)\n",
    "        if arr[i] - arr[i+1] > 4 # slightly less than 2pi\n",
    "            count -= 1\n",
    "            push!(dec, (arr[i],arr[i+1],i))\n",
    "        elseif arr[i] - arr[i+1] < -4 # decrement if it goes clockwise (less than -6)\n",
    "            count += 1\n",
    "            push!(add, (arr[i],arr[i+1],i))\n",
    "        end\n",
    "    end\n",
    "    return count\n",
    "end"
   ]
  },
  {
   "cell_type": "code",
   "execution_count": 83,
   "metadata": {},
   "outputs": [
    {
     "data": {
      "text/plain": [
       "divideRec (generic function with 2 methods)"
      ]
     },
     "execution_count": 83,
     "metadata": {},
     "output_type": "execute_result"
    }
   ],
   "source": [
    "# subdivide rectangle into four\n",
    "# run recursion of countJump for sub-rectangles that have zeros\n",
    "# repeat recursion until all of the jumps are found. \n",
    "# return the bottom left coordinates of the squares\n",
    "    \n",
    "# halt when we reach desired accuracy instead of using count \n",
    "function divideRec(f, input, info, res, count)\n",
    "    height = info.height\n",
    "    width = info.width\n",
    "    \n",
    "    # bottom left square\n",
    "    x_bl = input.btmlft[1]\n",
    "    y_bl = input.btmlft[2]\n",
    "    x_tr = width/2 + input.btmlft[1]\n",
    "    y_tr = height/2 + input.btmlft[2]\n",
    "    new_input = ((x_bl,y_bl),(x_tr, y_tr))\n",
    "    new_info = parseInput(new_input)\n",
    "    new_arr = argBox(f, new_input, new_info)\n",
    "\n",
    "    if countJump(f, new_arr, new_info) == 0 && count != 0 # add count to know when to push coordinate to result array\n",
    "        push!(res, (input.btmlft[1],input.btmlft[2]))\n",
    "        res\n",
    "    elseif countJump(f, new_arr, new_info) > 0 # change to != 0 after debugging\n",
    "        divideRec(f, new_input, new_info, (x_bl, y_bl), count+1) # res: the bottom left coordinate?\n",
    "    end\n",
    "\n",
    "    # top left square\n",
    "    x_bl = input.btmlft[1]\n",
    "    y_bl = input.btmlft[2]+height/2\n",
    "    x_tr = width/2 + input.btmlft[1]\n",
    "    y_tr = input.uprght[2]\n",
    "    new_input = ((x_bl, y_bl),(x_tr, y_tr))\n",
    "    new_info = parseInput(new_input)\n",
    "    new_arr = argBox(f, new_input, new_info)\n",
    "    \n",
    "    if countJump(f, new_arr, new_info) == 0 && count != 0\n",
    "        push!(res, (input.btmlft[1],input.btmlft[2]))\n",
    "        res\n",
    "    elseif countJump(f, new_arr, new_info) > 0 # change to != 0 after debugging\n",
    "        divideRec(f, new_input, new_info, (x_bl, y_bl), count+1) \n",
    "    end\n",
    "    \n",
    "    # top right square\n",
    "    x_bl = width/2 + input.btmlft[1]\n",
    "    y_bl = height/2 + input.btmlft[2]\n",
    "    x_tr = input.uprght[1]\n",
    "    y_tr = input.uprght[2]\n",
    "    new_input = ((x_bl, y_bl),(x_tr, y_tr))\n",
    "    new_info = parseInput(new_input)\n",
    "    new_arr = argBox(f, new_input, new_info)\n",
    "    \n",
    "    if countJump(f, new_arr, new_info) == 0 && count != 0\n",
    "        push!(res, (input.btmlft[1],input.btmlft[2]))\n",
    "        res\n",
    "    elseif countJump(f, new_arr, new_info) > 0 # change to != 0 after debugging\n",
    "        divideRec(f, new_input, new_info, (x_bl, y_bl)) \n",
    "    end\n",
    "    \n",
    "    # bottom right square\n",
    "    x_bl = width/2 + input.btmlft[1]\n",
    "    y_bl = input.btmlft[2]\n",
    "    x_tr = input.uprght[1]\n",
    "    y_tr = height/2 + input.btmlft[2]\n",
    "    new_input = ((x_bl, y_bl),(x_tr, y_tr))\n",
    "    new_info = parseInput(new_input)\n",
    "    new_arr = argBox(f, new_input, new_info)\n",
    "    \n",
    "    if countJump(f, new_arr, new_info) == 0 && count != 0\n",
    "        push!(res, (input.btmlft[1],input.btmlft[2]))\n",
    "        res\n",
    "    elseif countJump(f, new_arr, new_info) > 0 # change to != 0 after debugging\n",
    "        divideRec(f, new_input, new_info, (x_bl, y_bl))\n",
    "    end\n",
    "\n",
    "end\n",
    "\n"
   ]
  },
  {
   "cell_type": "markdown",
   "metadata": {},
   "source": [
    "## Unit Tests\n",
    "Test the algorithm properly. Polynomials are easy to put the zeros exactly where you want them. Try multiplying another function which has no zero in the region to make it more computationally expensive."
   ]
  },
  {
   "cell_type": "code",
   "execution_count": 87,
   "metadata": {},
   "outputs": [
    {
     "ename": "ErrorException",
     "evalue": "type Tuple has no field uprght",
     "output_type": "error",
     "traceback": [
      "type Tuple has no field uprght",
      "",
      "Stacktrace:",
      " [1] getproperty(::Any, ::Symbol) at ./sysimg.jl:18",
      " [2] parseInput(::Tuple{Tuple{Int64,Int64},Tuple{Float32,Float32}}) at ./In[68]:3",
      " [3] divideRec(::Polynomial{Complex{Int64}}, ::Rect, ::Step, ::Array{Any,1}, ::Int64) at ./In[83]:17",
      " [4] top-level scope at In[87]:7"
     ]
    }
   ],
   "source": [
    "# first unit test with 4 zeros\n",
    "t1 = fromroots([-1+2im,2+4im,-3im, 4+6im])\n",
    "input = Rect((1,1), (10,10))\n",
    "info = parseInput(input) # handles steps\n",
    "arr = argBox(t1, input, info)\n",
    "countJump(t1, arr, info) == 2 # (1,4), (4,6)\n",
    "\n",
    "divideRec(t1, input, info, [], 0)"
   ]
  },
  {
   "cell_type": "code",
   "execution_count": 64,
   "metadata": {},
   "outputs": [
    {
     "data": {
      "text/plain": [
       "true"
      ]
     },
     "execution_count": 64,
     "metadata": {},
     "output_type": "execute_result"
    }
   ],
   "source": [
    "t2 = fromroots([1+2im,1+4im,-1+3im, 4+6im])  # zero lying on borders can't be detected by code if 3im\n",
    "input2 = Rect((-10,0), (0,10))\n",
    "info2 = parseInput(input2)\n",
    "arr2 = argBox(t2, input2, info2)\n",
    "countJump(t2, arr2, info2) == 1"
   ]
  },
  {
   "cell_type": "code",
   "execution_count": null,
   "metadata": {},
   "outputs": [],
   "source": []
  }
 ],
 "metadata": {
  "kernelspec": {
   "display_name": "Julia 1.0.5",
   "language": "julia",
   "name": "julia-1.0"
  },
  "language_info": {
   "file_extension": ".jl",
   "mimetype": "application/julia",
   "name": "julia",
   "version": "1.0.5"
  }
 },
 "nbformat": 4,
 "nbformat_minor": 4
}
