{
 "cells": [
  {
   "cell_type": "code",
   "execution_count": 41,
   "metadata": {},
   "outputs": [],
   "source": [
    "# dependencies\n",
    "# using PyPlot\n",
    "# using QuadGK\n",
    "# using ProgressMeter\n",
    "using Polynomials\n",
    "using Plots"
   ]
  },
  {
   "cell_type": "markdown",
   "metadata": {},
   "source": [
    "# First Implementation \n",
    "Direction: \n",
    "- Evaluate the function at various points around the edges of the rectangle. \n",
    "- Count how many cycles the argument completes while traversing around the rectangle.\n",
    "\n",
    "Spot rectangle, and how many zeros are inside.\n",
    "By tracking the winding number, we can locate the number of zeros in the holomorphic function\n",
    "\n",
    "Wind(arg) = 1/(2*pi*im) * integrate(1/(x+im*y))"
   ]
  },
  {
   "cell_type": "code",
   "execution_count": 18,
   "metadata": {},
   "outputs": [],
   "source": [
    "# define data structure of rectangle\n",
    "struct Rec\n",
    "    btmlft::Any\n",
    "    uplft::Any\n",
    "    uprght::Any\n",
    "    btmrght::Any\n",
    "end\n",
    "\n",
    "# need or not?\n",
    "struct Step\n",
    "    height::Float32\n",
    "    width::Float32\n",
    "end"
   ]
  },
  {
   "cell_type": "code",
   "execution_count": 28,
   "metadata": {},
   "outputs": [
    {
     "data": {
      "text/plain": [
       "0.2"
      ]
     },
     "execution_count": 28,
     "metadata": {},
     "output_type": "execute_result"
    }
   ],
   "source": [
    "# get input for rectangle coordinates\n",
    "input = Rec((0,0), (0,10), (10,10), (10,0))\n",
    "\n",
    "# calculate height and width\n",
    "height = input.uplft[2] - input.btmlft[2]\n",
    "width = input.btmrght[1] - input.btmlft[2]\n",
    "info = Step(height,width) # store information into Step struct maybe for future references. need or not?\n",
    "\n",
    "# change n accordingly so argument analysis is comprehensive\n",
    "n = 50\n",
    "step = height/n"
   ]
  },
  {
   "cell_type": "code",
   "execution_count": 41,
   "metadata": {},
   "outputs": [
    {
     "ename": "ErrorException",
     "evalue": "syntax: `global i`: i is a local variable in its enclosing scope",
     "output_type": "error",
     "traceback": [
      "syntax: `global i`: i is a local variable in its enclosing scope",
      ""
     ]
    }
   ],
   "source": [
    "# evaluate the argument at various points starting at bottomleft and traversing one round\n",
    "# store arguments in array\n",
    "\n",
    "function argBox(input)\n",
    "    # bottom left to top left\n",
    "    i = input.btmlft[2]\n",
    "    argArray = []\n",
    "    while i < input.uplft[2]\n",
    "        arg = atan(i/input.btmlft[1])\n",
    "        push!(argArray,arg)\n",
    "        global i += step\n",
    "    end\n",
    "    # top left to top right\n",
    "    j = input.uplft[1]\n",
    "    while j < input.uprght[1]\n",
    "        arg = atan(input.uplft[2]/j)\n",
    "        push!(argArray,arg)\n",
    "        global j += step\n",
    "    end\n",
    "    # top right to bottom right\n",
    "    i = input.uprght[2]\n",
    "    while i > input.btmrght[2]\n",
    "        arg = atan(i/input.uprght[1])\n",
    "        push!(argArray,arg)\n",
    "        global i -= step\n",
    "    end\n",
    "    # bottom right to bottom left\n",
    "    j = input.btmrght[1]\n",
    "    while j > input.btmlft[1]\n",
    "        arg = atan(input.btmlft[2]/j)\n",
    "        push!(argArray,arg)\n",
    "        global j -= step\n",
    "    end\n",
    "    return argArray\n",
    "end\n"
   ]
  },
  {
   "cell_type": "code",
   "execution_count": 60,
   "metadata": {},
   "outputs": [
    {
     "ename": "UndefVarError",
     "evalue": "UndefVarError: arBox not defined",
     "output_type": "error",
     "traceback": [
      "UndefVarError: arBox not defined",
      "",
      "Stacktrace:",
      " [1] top-level scope at In[60]:1"
     ]
    }
   ],
   "source": [
    "# spot jumps (~>= 2pi or 6)\n",
    "# the output of argBox(input) is an array of the arguments\n",
    "# use a for loop to check if any of the pairs match the criteria\n",
    "# increase count and return the final count. This is the number of zeros in the locus\n",
    "\n",
    "arr = arBox(input)\n",
    "len = length(arr)\n",
    "\n",
    "\n",
    "count = 0\n",
    "for i in 1:(len - 1)\n",
    "    if abs(arr[i] - arr[i+1]) > 6\n",
    "        global count += 1\n",
    "    end\n",
    "end"
   ]
  },
  {
   "cell_type": "code",
   "execution_count": null,
   "metadata": {},
   "outputs": [],
   "source": []
  },
  {
   "cell_type": "markdown",
   "metadata": {},
   "source": [
    "## Unit Tests\n",
    "Test the algorithm properly. Polynomials are easy to put the zeros exactly where you want them. Try multiplying another function which has no zero in the region to make it more computationally expensive."
   ]
  },
  {
   "cell_type": "code",
   "execution_count": 38,
   "metadata": {},
   "outputs": [
    {
     "ename": "UndefVarError",
     "evalue": "UndefVarError: Polynomial not defined",
     "output_type": "error",
     "traceback": [
      "UndefVarError: Polynomial not defined",
      "",
      "Stacktrace:",
      " [1] top-level scope at In[38]:1"
     ]
    }
   ],
   "source": [
    "t1 = Polynomial([-1+2im,4im,-3im], :x)"
   ]
  },
  {
   "cell_type": "code",
   "execution_count": null,
   "metadata": {},
   "outputs": [],
   "source": []
  }
 ],
 "metadata": {
  "kernelspec": {
   "display_name": "Julia 1.0.5",
   "language": "julia",
   "name": "julia-1.0"
  },
  "language_info": {
   "file_extension": ".jl",
   "mimetype": "application/julia",
   "name": "julia",
   "version": "1.0.5"
  }
 },
 "nbformat": 4,
 "nbformat_minor": 4
}
