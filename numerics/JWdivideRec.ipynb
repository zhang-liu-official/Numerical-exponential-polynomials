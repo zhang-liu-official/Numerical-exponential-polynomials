{
 "cells": [
  {
   "cell_type": "code",
   "execution_count": 99,
   "metadata": {},
   "outputs": [
    {
     "data": {
      "text/plain": [
       "divideRec (generic function with 2 methods)"
      ]
     },
     "execution_count": 99,
     "metadata": {},
     "output_type": "execute_result"
    }
   ],
   "source": [
    "# subdivide rectangle into four\n",
    "# run recursion of countJump for sub-rectangles that have zeros\n",
    "# repeat recursion until all of the jumps are found. \n",
    "# return the bottom left coordinates of the squares\n",
    "    \n",
    "# halt when we reach desired accuracy instead of using count \n",
    "function divideRec(f, input, info, res, count)\n",
    "    height = info.height\n",
    "    width = info.width\n",
    "    \n",
    "    # bottom left square\n",
    "    x_bl = input.btmlft[1]\n",
    "    y_bl = input.btmlft[2]\n",
    "    x_tr = width/2 + input.btmlft[1]\n",
    "    y_tr = height/2 + input.btmlft[2]\n",
    "    new_input = ((x_bl,y_bl),(x_tr, y_tr))\n",
    "    new_info = parseInput(new_input)\n",
    "    new_arr = argBox(f, new_input, new_info)\n",
    "\n",
    "    if countJump(f, new_arr, new_info) == 0 && count != 0 # add count to know when to push coordinate to result array\n",
    "        push!(res, (input.btmlft[1],input.btmlft[2]))\n",
    "        res\n",
    "    elseif countJump(f, new_arr, new_info) > 0 # change to != 0 after debugging\n",
    "        divideRec(f, new_input, new_info, (x_bl, y_bl), count+1) # res: the bottom left coordinate?\n",
    "    end\n",
    "\n",
    "    # top left square\n",
    "    x_bl = input.btmlft[1]\n",
    "    y_bl = input.btmlft[2]+height/2\n",
    "    x_tr = width/2 + input.btmlft[1]\n",
    "    y_tr = input.uprght[2]\n",
    "    new_input = ((x_bl, y_bl),(x_tr, y_tr))\n",
    "    new_info = parseInput(new_input)\n",
    "    new_arr = argBox(f, new_input, new_info)\n",
    "    \n",
    "    if countJump(f, new_arr, new_info) == 0 && count != 0\n",
    "        push!(res, (input.btmlft[1],input.btmlft[2]))\n",
    "        res\n",
    "    elseif countJump(f, new_arr, new_info) > 0 # change to != 0 after debugging\n",
    "        divideRec(f, new_input, new_info, (x_bl, y_bl), count+1) \n",
    "    end\n",
    "    \n",
    "    # top right square\n",
    "    x_bl = width/2 + input.btmlft[1]\n",
    "    y_bl = height/2 + input.btmlft[2]\n",
    "    x_tr = input.uprght[1]\n",
    "    y_tr = input.uprght[2]\n",
    "    new_input = ((x_bl, y_bl),(x_tr, y_tr))\n",
    "    new_info = parseInput(new_input)\n",
    "    new_arr = argBox(f, new_input, new_info)\n",
    "    \n",
    "    if countJump(f, new_arr, new_info) == 0 && count != 0\n",
    "        push!(res, (input.btmlft[1],input.btmlft[2]))\n",
    "        res\n",
    "    elseif countJump(f, new_arr, new_info) > 0 # change to != 0 after debugging\n",
    "        divideRec(f, new_input, new_info, (x_bl, y_bl)) \n",
    "    end\n",
    "    \n",
    "    # bottom right square\n",
    "    x_bl = width/2 + input.btmlft[1]\n",
    "    y_bl = input.btmlft[2]\n",
    "    x_tr = input.uprght[1]\n",
    "    y_tr = height/2 + input.btmlft[2]\n",
    "    new_input = ((x_bl, y_bl),(x_tr, y_tr))\n",
    "    new_info = parseInput(new_input)\n",
    "    new_arr = argBox(f, new_input, new_info)\n",
    "    \n",
    "    if countJump(f, new_arr, new_info) == 0 && count != 0\n",
    "        push!(res, (input.btmlft[1],input.btmlft[2]))\n",
    "        res\n",
    "    elseif countJump(f, new_arr, new_info) > 0 # change to != 0 after debugging\n",
    "        divideRec(f, new_input, new_info, (x_bl, y_bl))\n",
    "    end\n",
    "\n",
    "end"
   ]
  },
  {
   "cell_type": "code",
   "execution_count": 100,
   "metadata": {},
   "outputs": [
    {
     "ename": "ErrorException",
     "evalue": "type Tuple has no field uprght",
     "output_type": "error",
     "traceback": [
      "type Tuple has no field uprght",
      "",
      "Stacktrace:",
      " [1] getproperty(::Any, ::Symbol) at ./sysimg.jl:18",
      " [2] parseInput(::Tuple{Tuple{Int64,Int64},Tuple{Float32,Float32}}) at ./In[68]:3",
      " [3] divideRec(::Polynomial{Complex{Int64}}, ::Rect, ::Step, ::Array{Any,1}, ::Int64) at ./In[99]:17",
      " [4] top-level scope at In[100]:5"
     ]
    }
   ],
   "source": [
    "# unit test\n",
    "t1 = fromroots([-1+2im,2+4im,-3im, 4+6im])\n",
    "input = Rect((1,1), (10,10))\n",
    "info = parseInput(input) # handles steps\n",
    "\n",
    "divideRec(t1, input, info, [], 0)"
   ]
  },
  {
   "cell_type": "code",
   "execution_count": 96,
   "metadata": {},
   "outputs": [
    {
     "ename": "ErrorException",
     "evalue": "type Tuple has no field uprght",
     "output_type": "error",
     "traceback": [
      "type Tuple has no field uprght",
      "",
      "Stacktrace:",
      " [1] getproperty(::Any, ::Symbol) at ./sysimg.jl:18",
      " [2] parseInput(::Tuple{Tuple{Int64,Int64},Tuple{Float32,Float32}}) at ./In[68]:3",
      " [3] divideRec(::Polynomial{Complex{Int64}}, ::Rect, ::Step, ::Array{Any,1}, ::Int64) at ./In[91]:17",
      " [4] top-level scope at In[96]:4"
     ]
    }
   ],
   "source": [
    "t2 = fromroots([1+2im,1+4im,-1+3im, 4+6im])  # zero lying on borders can't be detected by code if 3im\n",
    "input2 = Rect((-10,0), (0,10))\n",
    "info2 = parseInput(input2)\n",
    "\n",
    "divideRec(t2, input2, info2, [], 0)"
   ]
  },
  {
   "cell_type": "code",
   "execution_count": null,
   "metadata": {},
   "outputs": [],
   "source": []
  }
 ],
 "metadata": {
  "kernelspec": {
   "display_name": "Julia 1.0.5",
   "language": "julia",
   "name": "julia-1.0"
  },
  "language_info": {
   "file_extension": ".jl",
   "mimetype": "application/julia",
   "name": "julia",
   "version": "1.0.5"
  }
 },
 "nbformat": 4,
 "nbformat_minor": 4
}
